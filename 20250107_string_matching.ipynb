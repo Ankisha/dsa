{
 "cells": [
  {
   "cell_type": "code",
   "execution_count": 2,
   "metadata": {},
   "outputs": [],
   "source": [
    "\n",
    "class Solution:\n",
    "    def stringMatching(self, words) :\n",
    "        res = [] # to store the result\n",
    "        for i in range(len(words)):\n",
    "            for j in range(len(words)):\n",
    "                if words[i] in words[j] and i!=j:\n",
    "                    res.append(words[i])\n",
    "                    break\n",
    "                    \n",
    "        return res\n"
   ]
  },
  {
   "cell_type": "code",
   "execution_count": 3,
   "metadata": {},
   "outputs": [
    {
     "name": "stdout",
     "output_type": "stream",
     "text": [
      "['apple', 'app', 'ana']\n"
     ]
    }
   ],
   "source": [
    "solution = Solution()\n",
    "words = [\"apple\", \"banana\", \"orange\", \"pineapple\", 'app','ana']\n",
    "result = solution.stringMatching(words)\n",
    "print(result)\n"
   ]
  },
  {
   "cell_type": "code",
   "execution_count": null,
   "metadata": {},
   "outputs": [],
   "source": []
  }
 ],
 "metadata": {
  "kernelspec": {
   "display_name": "trade_env",
   "language": "python",
   "name": "trade_env"
  },
  "language_info": {
   "codemirror_mode": {
    "name": "ipython",
    "version": 3
   },
   "file_extension": ".py",
   "mimetype": "text/x-python",
   "name": "python",
   "nbconvert_exporter": "python",
   "pygments_lexer": "ipython3",
   "version": "3.11.7"
  }
 },
 "nbformat": 4,
 "nbformat_minor": 2
}
