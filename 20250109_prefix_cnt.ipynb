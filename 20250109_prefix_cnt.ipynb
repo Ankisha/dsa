{
 "cells": [
  {
   "cell_type": "markdown",
   "metadata": {},
   "source": [
    "2185. Counting Words With a Given Prefix\n",
    "Solved\n",
    "Easy\n",
    "Topics\n",
    "Companies\n",
    "Hint\n",
    "You are given an array of strings words and a string pref.\n",
    "\n",
    "Return the number of strings in words that contain pref as a prefix.\n",
    "\n",
    "A prefix of a string s is any leading contiguous substring of s.\n",
    "Example 1:\n",
    "\n",
    "Input: words = [\"pay\",\"attention\",\"practice\",\"attend\"], pref = \"at\"\n",
    "Output: 2\n",
    "Explanation: The 2 strings that contain \"at\" as a prefix are: \"attention\" and \"attend\"."
   ]
  },
  {
   "cell_type": "code",
   "execution_count": 1,
   "metadata": {},
   "outputs": [
    {
     "name": "stdout",
     "output_type": "stream",
     "text": [
      "3\n"
     ]
    }
   ],
   "source": [
    "class Solution:\n",
    "    def prefixCount(self, words, pref):\n",
    "        res = 0\n",
    "        for i in range(len(words)):\n",
    "            if pref == words[i][0:len(pref)]:\n",
    "                res +=1\n",
    "        return res\n",
    "solution = Solution()\n",
    "print(solution.prefixCount([\"dog\",\"cat\",\"dove\",\"dog\"], \"do\"))"
   ]
  },
  {
   "cell_type": "code",
   "execution_count": null,
   "metadata": {},
   "outputs": [],
   "source": []
  }
 ],
 "metadata": {
  "kernelspec": {
   "display_name": "trade_env",
   "language": "python",
   "name": "trade_env"
  },
  "language_info": {
   "codemirror_mode": {
    "name": "ipython",
    "version": 3
   },
   "file_extension": ".py",
   "mimetype": "text/x-python",
   "name": "python",
   "nbconvert_exporter": "python",
   "pygments_lexer": "ipython3",
   "version": "3.11.7"
  }
 },
 "nbformat": 4,
 "nbformat_minor": 2
}
