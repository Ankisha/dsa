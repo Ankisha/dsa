{
 "cells": [
  {
   "cell_type": "markdown",
   "metadata": {},
   "source": [
    "\n",
    "916. Word Subsets\n",
    "You are given two string arrays words1 and words2.\n",
    "\n",
    "A string b is a subset of string a if every letter in b occurs in a including multiplicity.\n",
    "\n",
    "For example, \"wrr\" is a subset of \"warrior\" but is not a subset of \"world\".\n",
    "A string a from words1 is universal if for every string b in words2, b is a subset of a.\n",
    "\n",
    "Return an array of all the universal strings in words1. You may return the answer in any order.\n",
    "\n",
    "Example 1:\n",
    "\n",
    "Input: words1 = [\"amazon\",\"apple\",\"facebook\",\"google\",\"leetcode\"], words2 = [\"e\",\"o\"]\n",
    "Output: [\"facebook\",\"google\",\"leetcode\"]"
   ]
  },
  {
   "cell_type": "code",
   "execution_count": null,
   "metadata": {},
   "outputs": [],
   "source": [
    "class Solution:\n",
    "    def wordSubsets(self, words1: List[str], words2) :\n",
    "\n",
    "        max_map = [0]*26\n",
    "        for wd2 in words2:\n",
    "            word2_map = [0]*26\n",
    "            for char2 in wd2:\n",
    "                word2_map[ord(char2)-ord('a')] +=1\n",
    "            for k in range(26):\n",
    "                max_map[k] = max(max_map[k],word2_map[k])\n",
    "        print(max_map)\n",
    "        res = []\n",
    "        for word in words1:\n",
    "            mymap = [0]*26\n",
    "            for c in word:\n",
    "                mymap[ord(c)-ord('a')]+=1\n",
    "\n",
    "            # check if max_map can be accomodated within mymap\n",
    "            cnt = 0\n",
    "            for k in range(26):\n",
    "                if max_map[k] <= mymap[k]:\n",
    "                    cnt+=1\n",
    "            if cnt == 26:\n",
    "                res.append(word)\n",
    "                \n",
    "        return res"
   ]
  }
 ],
 "metadata": {
  "language_info": {
   "name": "python"
  }
 },
 "nbformat": 4,
 "nbformat_minor": 2
}
